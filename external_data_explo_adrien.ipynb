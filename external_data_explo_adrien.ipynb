{
 "cells": [
  {
   "cell_type": "markdown",
   "metadata": {},
   "source": [
    "# External data exploration"
   ]
  },
  {
   "cell_type": "code",
   "execution_count": 91,
   "metadata": {},
   "outputs": [],
   "source": [
    "import pandas as pd"
   ]
  },
  {
   "cell_type": "code",
   "execution_count": 92,
   "metadata": {},
   "outputs": [],
   "source": [
    "df = pd.read_csv('./data/external_data.csv')"
   ]
  },
  {
   "cell_type": "code",
   "execution_count": 93,
   "metadata": {},
   "outputs": [
    {
     "data": {
      "text/html": [
       "<div>\n",
       "<style scoped>\n",
       "    .dataframe tbody tr th:only-of-type {\n",
       "        vertical-align: middle;\n",
       "    }\n",
       "\n",
       "    .dataframe tbody tr th {\n",
       "        vertical-align: top;\n",
       "    }\n",
       "\n",
       "    .dataframe thead th {\n",
       "        text-align: right;\n",
       "    }\n",
       "</style>\n",
       "<table border=\"1\" class=\"dataframe\">\n",
       "  <thead>\n",
       "    <tr style=\"text-align: right;\">\n",
       "      <th></th>\n",
       "      <th>numer_sta</th>\n",
       "      <th>date</th>\n",
       "      <th>pmer</th>\n",
       "      <th>tend</th>\n",
       "      <th>cod_tend</th>\n",
       "      <th>dd</th>\n",
       "      <th>ff</th>\n",
       "      <th>t</th>\n",
       "      <th>td</th>\n",
       "      <th>u</th>\n",
       "      <th>...</th>\n",
       "      <th>hnuage1</th>\n",
       "      <th>nnuage2</th>\n",
       "      <th>ctype2</th>\n",
       "      <th>hnuage2</th>\n",
       "      <th>nnuage3</th>\n",
       "      <th>ctype3</th>\n",
       "      <th>hnuage3</th>\n",
       "      <th>nnuage4</th>\n",
       "      <th>ctype4</th>\n",
       "      <th>hnuage4</th>\n",
       "    </tr>\n",
       "  </thead>\n",
       "  <tbody>\n",
       "    <tr>\n",
       "      <th>0</th>\n",
       "      <td>7149</td>\n",
       "      <td>2021-01-01 00:00:00</td>\n",
       "      <td>100810</td>\n",
       "      <td>80</td>\n",
       "      <td>1</td>\n",
       "      <td>270</td>\n",
       "      <td>1.8</td>\n",
       "      <td>272.75</td>\n",
       "      <td>272.15</td>\n",
       "      <td>96</td>\n",
       "      <td>...</td>\n",
       "      <td>600.0</td>\n",
       "      <td>NaN</td>\n",
       "      <td>NaN</td>\n",
       "      <td>NaN</td>\n",
       "      <td>NaN</td>\n",
       "      <td>NaN</td>\n",
       "      <td>NaN</td>\n",
       "      <td>NaN</td>\n",
       "      <td>NaN</td>\n",
       "      <td>NaN</td>\n",
       "    </tr>\n",
       "    <tr>\n",
       "      <th>1</th>\n",
       "      <td>7149</td>\n",
       "      <td>2021-01-01 03:00:00</td>\n",
       "      <td>100920</td>\n",
       "      <td>110</td>\n",
       "      <td>3</td>\n",
       "      <td>300</td>\n",
       "      <td>1.7</td>\n",
       "      <td>271.25</td>\n",
       "      <td>270.95</td>\n",
       "      <td>98</td>\n",
       "      <td>...</td>\n",
       "      <td>1500.0</td>\n",
       "      <td>2.0</td>\n",
       "      <td>3.0</td>\n",
       "      <td>3000.0</td>\n",
       "      <td>NaN</td>\n",
       "      <td>NaN</td>\n",
       "      <td>NaN</td>\n",
       "      <td>NaN</td>\n",
       "      <td>NaN</td>\n",
       "      <td>NaN</td>\n",
       "    </tr>\n",
       "    <tr>\n",
       "      <th>2</th>\n",
       "      <td>7149</td>\n",
       "      <td>2021-01-01 06:00:00</td>\n",
       "      <td>100950</td>\n",
       "      <td>30</td>\n",
       "      <td>3</td>\n",
       "      <td>290</td>\n",
       "      <td>2.6</td>\n",
       "      <td>271.95</td>\n",
       "      <td>271.65</td>\n",
       "      <td>98</td>\n",
       "      <td>...</td>\n",
       "      <td>480.0</td>\n",
       "      <td>4.0</td>\n",
       "      <td>6.0</td>\n",
       "      <td>2000.0</td>\n",
       "      <td>6.0</td>\n",
       "      <td>3.0</td>\n",
       "      <td>3000.0</td>\n",
       "      <td>NaN</td>\n",
       "      <td>NaN</td>\n",
       "      <td>NaN</td>\n",
       "    </tr>\n",
       "    <tr>\n",
       "      <th>3</th>\n",
       "      <td>7149</td>\n",
       "      <td>2021-01-01 09:00:00</td>\n",
       "      <td>101100</td>\n",
       "      <td>150</td>\n",
       "      <td>2</td>\n",
       "      <td>280</td>\n",
       "      <td>1.7</td>\n",
       "      <td>272.45</td>\n",
       "      <td>272.05</td>\n",
       "      <td>97</td>\n",
       "      <td>...</td>\n",
       "      <td>1740.0</td>\n",
       "      <td>3.0</td>\n",
       "      <td>3.0</td>\n",
       "      <td>2800.0</td>\n",
       "      <td>NaN</td>\n",
       "      <td>NaN</td>\n",
       "      <td>NaN</td>\n",
       "      <td>NaN</td>\n",
       "      <td>NaN</td>\n",
       "      <td>NaN</td>\n",
       "    </tr>\n",
       "    <tr>\n",
       "      <th>4</th>\n",
       "      <td>7149</td>\n",
       "      <td>2021-01-01 12:00:00</td>\n",
       "      <td>101110</td>\n",
       "      <td>30</td>\n",
       "      <td>0</td>\n",
       "      <td>50</td>\n",
       "      <td>1.0</td>\n",
       "      <td>276.95</td>\n",
       "      <td>274.15</td>\n",
       "      <td>82</td>\n",
       "      <td>...</td>\n",
       "      <td>330.0</td>\n",
       "      <td>4.0</td>\n",
       "      <td>6.0</td>\n",
       "      <td>570.0</td>\n",
       "      <td>7.0</td>\n",
       "      <td>6.0</td>\n",
       "      <td>810.0</td>\n",
       "      <td>NaN</td>\n",
       "      <td>NaN</td>\n",
       "      <td>NaN</td>\n",
       "    </tr>\n",
       "  </tbody>\n",
       "</table>\n",
       "<p>5 rows × 59 columns</p>\n",
       "</div>"
      ],
      "text/plain": [
       "   numer_sta                 date    pmer  tend  cod_tend   dd   ff       t  \\\n",
       "0       7149  2021-01-01 00:00:00  100810    80         1  270  1.8  272.75   \n",
       "1       7149  2021-01-01 03:00:00  100920   110         3  300  1.7  271.25   \n",
       "2       7149  2021-01-01 06:00:00  100950    30         3  290  2.6  271.95   \n",
       "3       7149  2021-01-01 09:00:00  101100   150         2  280  1.7  272.45   \n",
       "4       7149  2021-01-01 12:00:00  101110    30         0   50  1.0  276.95   \n",
       "\n",
       "       td   u  ...  hnuage1  nnuage2  ctype2  hnuage2  nnuage3  ctype3  \\\n",
       "0  272.15  96  ...    600.0      NaN     NaN      NaN      NaN     NaN   \n",
       "1  270.95  98  ...   1500.0      2.0     3.0   3000.0      NaN     NaN   \n",
       "2  271.65  98  ...    480.0      4.0     6.0   2000.0      6.0     3.0   \n",
       "3  272.05  97  ...   1740.0      3.0     3.0   2800.0      NaN     NaN   \n",
       "4  274.15  82  ...    330.0      4.0     6.0    570.0      7.0     6.0   \n",
       "\n",
       "   hnuage3  nnuage4  ctype4  hnuage4  \n",
       "0      NaN      NaN     NaN      NaN  \n",
       "1      NaN      NaN     NaN      NaN  \n",
       "2   3000.0      NaN     NaN      NaN  \n",
       "3      NaN      NaN     NaN      NaN  \n",
       "4    810.0      NaN     NaN      NaN  \n",
       "\n",
       "[5 rows x 59 columns]"
      ]
     },
     "execution_count": 93,
     "metadata": {},
     "output_type": "execute_result"
    }
   ],
   "source": [
    "df.head()"
   ]
  },
  {
   "cell_type": "code",
   "execution_count": 94,
   "metadata": {},
   "outputs": [
    {
     "data": {
      "text/plain": [
       "(3322, 59)"
      ]
     },
     "execution_count": 94,
     "metadata": {},
     "output_type": "execute_result"
    }
   ],
   "source": [
    "df.shape"
   ]
  },
  {
   "cell_type": "code",
   "execution_count": 95,
   "metadata": {},
   "outputs": [
    {
     "data": {
      "text/plain": [
       "2873"
      ]
     },
     "execution_count": 95,
     "metadata": {},
     "output_type": "execute_result"
    }
   ],
   "source": [
    "df['nnuage1'].count()"
   ]
  },
  {
   "cell_type": "code",
   "execution_count": 96,
   "metadata": {},
   "outputs": [
    {
     "data": {
      "text/plain": [
       "0.158702476456226"
      ]
     },
     "execution_count": 96,
     "metadata": {},
     "output_type": "execute_result"
    }
   ],
   "source": [
    "df['hnuage1'].isna().sum()/df['hnuage1'].count()"
   ]
  },
  {
   "cell_type": "code",
   "execution_count": 97,
   "metadata": {},
   "outputs": [
    {
     "data": {
      "text/plain": [
       "3322"
      ]
     },
     "execution_count": 97,
     "metadata": {},
     "output_type": "execute_result"
    }
   ],
   "source": [
    "df['hnuage1'].shape[0]"
   ]
  },
  {
   "cell_type": "code",
   "execution_count": 98,
   "metadata": {},
   "outputs": [],
   "source": [
    "mute_columns = []\n",
    "\n",
    "for elem in df.columns:\n",
    "    if df[elem].isna().sum() / df[elem].shape[0] > 0.45:\n",
    "        mute_columns.append(elem)"
   ]
  },
  {
   "cell_type": "code",
   "execution_count": 99,
   "metadata": {},
   "outputs": [
    {
     "data": {
      "text/plain": [
       "['ch',\n",
       " 'niv_bar',\n",
       " 'geop',\n",
       " 'tn12',\n",
       " 'tn24',\n",
       " 'tx12',\n",
       " 'tx24',\n",
       " 'tminsol',\n",
       " 'sw',\n",
       " 'tw',\n",
       " 'phenspe1',\n",
       " 'phenspe2',\n",
       " 'phenspe3',\n",
       " 'phenspe4',\n",
       " 'nnuage2',\n",
       " 'ctype2',\n",
       " 'hnuage2',\n",
       " 'nnuage3',\n",
       " 'ctype3',\n",
       " 'hnuage3',\n",
       " 'nnuage4',\n",
       " 'ctype4',\n",
       " 'hnuage4']"
      ]
     },
     "execution_count": 99,
     "metadata": {},
     "output_type": "execute_result"
    }
   ],
   "source": [
    "mute_columns"
   ]
  },
  {
   "cell_type": "code",
   "execution_count": 100,
   "metadata": {},
   "outputs": [],
   "source": [
    "# Function to remove all the columns that have more than 45% of NaN values\n",
    "\n",
    "def _delete_na_columns(X):\n",
    "    X = X.copy()\n",
    "    mute_columns = []\n",
    "    for elem in df.columns:\n",
    "        if df[elem].isna().sum() / df[elem].shape[0] > 0.40:\n",
    "            mute_columns.append(elem)\n",
    "    X = X.drop(columns=mute_columns)\n",
    "    return X\n",
    "    "
   ]
  },
  {
   "cell_type": "code",
   "execution_count": 101,
   "metadata": {},
   "outputs": [],
   "source": [
    "df_clean=_delete_na_columns(df)\n",
    "\n",
    "\n",
    "na_values_columns = {}\n",
    "na_columns = []\n",
    "for elem in df_clean.columns:\n",
    "    na_percentage =df[elem].isna().sum() / df[elem].shape[0] \n",
    "    if na_percentage != 0:\n",
    "        na_values_columns[elem] = na_percentage\n",
    "        na_columns.append(elem)\n"
   ]
  },
  {
   "cell_type": "code",
   "execution_count": 102,
   "metadata": {},
   "outputs": [
    {
     "data": {
      "text/plain": [
       "{'w1': 0.002107164358819988,\n",
       " 'w2': 0.0030102347983142685,\n",
       " 'n': 0.04695966285370259,\n",
       " 'nbas': 0.0015051173991571343,\n",
       " 'hbas': 0.13636363636363635,\n",
       " 'cl': 0.12432269717037929,\n",
       " 'tend24': 0.0030102347983142685,\n",
       " 'raf10': 0.0030102347983142685,\n",
       " 'etat_sol': 0.015653220951234198,\n",
       " 'ht_neige': 0.014750150511739916,\n",
       " 'ssfrai': 0.13395544852498495,\n",
       " 'perssfrai': 0.13395544852498495,\n",
       " 'rr1': 0.0027092113184828417,\n",
       " 'rr3': 0.001806140878988561,\n",
       " 'rr6': 0.00481637567730283,\n",
       " 'rr12': 0.006622516556291391,\n",
       " 'rr24': 0.007224563515954244,\n",
       " 'nnuage1': 0.13515954244431067,\n",
       " 'ctype1': 0.24021673690547862,\n",
       " 'hnuage1': 0.13696568332329923}"
      ]
     },
     "execution_count": 102,
     "metadata": {},
     "output_type": "execute_result"
    }
   ],
   "source": [
    "na_values_columns"
   ]
  },
  {
   "cell_type": "code",
   "execution_count": 103,
   "metadata": {},
   "outputs": [],
   "source": [
    "# Let's see if the columns with missing values are gaussian, so that we could replace the missing values with the mean.\n",
    "\n",
    "import ydata_profiling\n",
    "#df[na_columns].profile_report()"
   ]
  },
  {
   "cell_type": "code",
   "execution_count": 104,
   "metadata": {},
   "outputs": [],
   "source": [
    "df[na_columns].head().to_csv(\"exteernal_missing_data.csv\", index=False)"
   ]
  },
  {
   "cell_type": "code",
   "execution_count": 105,
   "metadata": {},
   "outputs": [],
   "source": [
    "# On va mettre la date en index et classer le tout par ordre chronologique\n",
    "\n",
    "def _datetime_ordered_index(X):\n",
    "    X = X.copy()\n",
    "    X = X.set_index(X['date'])\n",
    "    X = X.sort_index()\n",
    "    X = X.drop(columns=[\"date\"])\n",
    "    return X"
   ]
  },
  {
   "cell_type": "code",
   "execution_count": 106,
   "metadata": {},
   "outputs": [],
   "source": [
    "df_clean = _datetime_ordered_index(df_clean)"
   ]
  },
  {
   "cell_type": "code",
   "execution_count": 107,
   "metadata": {},
   "outputs": [],
   "source": [
    "# Now we want to replace the null values by the last non missing value\n",
    "def _fill_na_with_ffill_or_mode(X):\n",
    "    X = X.copy()\n",
    "    X = X.fillna(method='ffill') # replacing NaN by the last non missing value\n",
    "    \n",
    "    # For the few values that couldn't be filled = most frequent value\n",
    "    for col in X.columns:\n",
    "        if X[col].isna().any():  \n",
    "            mode_value = df[col].mode().iloc[0]\n",
    "            X[col].fillna(mode_value, inplace=True)\n",
    "    \n",
    "    return X"
   ]
  },
  {
   "cell_type": "code",
   "execution_count": 108,
   "metadata": {},
   "outputs": [],
   "source": [
    "df_clean = _fill_na_with_ffill_or_mode(df_clean)"
   ]
  },
  {
   "cell_type": "code",
   "execution_count": 109,
   "metadata": {},
   "outputs": [
    {
     "data": {
      "text/plain": [
       "Index(['numer_sta', 'pmer', 'tend', 'cod_tend', 'dd', 'ff', 't', 'td', 'u',\n",
       "       'vv', 'ww', 'w1', 'w2', 'n', 'nbas', 'hbas', 'cl', 'pres', 'tend24',\n",
       "       'raf10', 'rafper', 'per', 'etat_sol', 'ht_neige', 'ssfrai', 'perssfrai',\n",
       "       'rr1', 'rr3', 'rr6', 'rr12', 'rr24', 'nnuage1', 'ctype1', 'hnuage1'],\n",
       "      dtype='object')"
      ]
     },
     "execution_count": 109,
     "metadata": {},
     "output_type": "execute_result"
    }
   ],
   "source": [
    "# names of the remaining clean columns\n",
    "df_clean.columns"
   ]
  },
  {
   "cell_type": "markdown",
   "metadata": {},
   "source": [
    "Here's what GPT tells about the data:\n",
    "\n",
    "- numer_sta : Numéro de station météorologique (identifiant unique).\n",
    "- pmer : Pression atmosphérique mesurée en hPa.\n",
    "- tend : Tendance de la température (p. ex., \"en hausse\", \"stable\", \"en baisse\").\n",
    "- cod_tend : Code indiquant la tendance de la température (peut-être un code numérique).\n",
    "- dd : Direction du vent (en degrés, où 0° correspond au nord).\n",
    "- ff : Force du vent (en km/h ou m/s).\n",
    "- t : Température de l'air (en °C).\n",
    "- td : Température du point de rosée (en °C).\n",
    "- u : Humidité relative de l'air (en %).\n",
    "- vv : Visibilité (en kilomètres ou mètres).\n",
    "- ww : Code météo pour décrire la situation (par exemple, \"pluie\", \"nuageux\", etc.).\n",
    "- w1 : Condition météorologique spécifique (par exemple, pluie, neige).\n",
    "- w2 : Deuxième condition météorologique possible (par exemple, brouillard).\n",
    "- n : Nombre de nuages (en octas, échelle de couverture nuageuse de 0 à 8).\n",
    "- nbas : Nombre de nuages bas (en octas).\n",
    "- hbas : Hauteur des nuages bas (en mètres).\n",
    "- cl : Couverture nuageuse globale (en %).\n",
    "- pres : Pression atmosphérique au niveau de la mer (en hPa).\n",
    "- tend24 : Tendance de la température sur 24 heures (indiquant si la température a augmenté ou diminué).\n",
    "- raf10 : Rafales de vent à 10 minutes (en km/h ou m/s).\n",
    "- rafper : Durée des rafales (en minutes).\n",
    "- per : Période des rafales (en secondes ou minutes).\n",
    "- etat_sol : État du sol (par exemple, sec, humide, neigeux).\n",
    "- ht_neige : Hauteur de la neige au sol (en cm).\n",
    "- ssfrai : Température de surface du sol (en °C).\n",
    "- perssfrai : Période de surface du sol (durée depuis le dernier gel).\n",
    "- rr1 : Précipitations sur 1 heure (en mm).\n",
    "- rr3 : Précipitations sur 3 heures (en mm).\n",
    "- rr6 : Précipitations sur 6 heures (en mm).\n",
    "- rr12 : Précipitations sur 12 heures (en mm).\n",
    "- rr24 : Précipitations sur 24 heures (en mm).\n",
    "- nnuage1 : Nombre de nuages à une altitude spécifique (probablement les nuages à moyenne ou haute altitude).\n",
    "- ctype1 : Type de nuage à une altitude spécifique.\n",
    "- hnuage1 : Hauteur des nuages à une altitude spécifique (en mètres)."
   ]
  },
  {
   "cell_type": "code",
   "execution_count": 126,
   "metadata": {},
   "outputs": [],
   "source": [
    "def _choose_external_features(X):\n",
    "    col = ['t', # temperature, obvious factor\n",
    "           'ww', # description of the weather situation\n",
    "           'cl', # cloud covering\n",
    "           'tend24', # weather tendency on 24h\n",
    "           'ff', # wind\n",
    "           'etat_sol', # state of the floor\n",
    "           'rr3'] # rain during last 3 hours\n",
    "    X = X.copy()\n",
    "    X = X[col]\n",
    "    return X\n",
    "            "
   ]
  },
  {
   "cell_type": "code",
   "execution_count": 127,
   "metadata": {},
   "outputs": [],
   "source": [
    "df_clean = _choose_external_features(df_clean)"
   ]
  },
  {
   "cell_type": "code",
   "execution_count": 128,
   "metadata": {},
   "outputs": [
    {
     "data": {
      "text/html": [
       "<div>\n",
       "<style scoped>\n",
       "    .dataframe tbody tr th:only-of-type {\n",
       "        vertical-align: middle;\n",
       "    }\n",
       "\n",
       "    .dataframe tbody tr th {\n",
       "        vertical-align: top;\n",
       "    }\n",
       "\n",
       "    .dataframe thead th {\n",
       "        text-align: right;\n",
       "    }\n",
       "</style>\n",
       "<table border=\"1\" class=\"dataframe\">\n",
       "  <thead>\n",
       "    <tr style=\"text-align: right;\">\n",
       "      <th></th>\n",
       "      <th>t</th>\n",
       "      <th>ww</th>\n",
       "      <th>cl</th>\n",
       "      <th>tend24</th>\n",
       "      <th>ff</th>\n",
       "      <th>etat_sol</th>\n",
       "      <th>rr3</th>\n",
       "    </tr>\n",
       "    <tr>\n",
       "      <th>date</th>\n",
       "      <th></th>\n",
       "      <th></th>\n",
       "      <th></th>\n",
       "      <th></th>\n",
       "      <th></th>\n",
       "      <th></th>\n",
       "      <th></th>\n",
       "    </tr>\n",
       "  </thead>\n",
       "  <tbody>\n",
       "    <tr>\n",
       "      <th>2020-09-01 00:00:00</th>\n",
       "      <td>285.75</td>\n",
       "      <td>1</td>\n",
       "      <td>30.0</td>\n",
       "      <td>120.0</td>\n",
       "      <td>1.6</td>\n",
       "      <td>0.0</td>\n",
       "      <td>0.0</td>\n",
       "    </tr>\n",
       "    <tr>\n",
       "      <th>2020-09-01 03:00:00</th>\n",
       "      <td>283.95</td>\n",
       "      <td>2</td>\n",
       "      <td>30.0</td>\n",
       "      <td>0.0</td>\n",
       "      <td>1.1</td>\n",
       "      <td>0.0</td>\n",
       "      <td>0.0</td>\n",
       "    </tr>\n",
       "    <tr>\n",
       "      <th>2020-09-01 06:00:00</th>\n",
       "      <td>284.25</td>\n",
       "      <td>3</td>\n",
       "      <td>30.0</td>\n",
       "      <td>-60.0</td>\n",
       "      <td>1.8</td>\n",
       "      <td>0.0</td>\n",
       "      <td>0.0</td>\n",
       "    </tr>\n",
       "    <tr>\n",
       "      <th>2020-09-01 09:00:00</th>\n",
       "      <td>291.25</td>\n",
       "      <td>1</td>\n",
       "      <td>31.0</td>\n",
       "      <td>-130.0</td>\n",
       "      <td>2.9</td>\n",
       "      <td>0.0</td>\n",
       "      <td>0.0</td>\n",
       "    </tr>\n",
       "    <tr>\n",
       "      <th>2020-09-01 12:00:00</th>\n",
       "      <td>293.95</td>\n",
       "      <td>0</td>\n",
       "      <td>31.0</td>\n",
       "      <td>-230.0</td>\n",
       "      <td>2.6</td>\n",
       "      <td>0.0</td>\n",
       "      <td>0.0</td>\n",
       "    </tr>\n",
       "  </tbody>\n",
       "</table>\n",
       "</div>"
      ],
      "text/plain": [
       "                          t  ww    cl  tend24   ff  etat_sol  rr3\n",
       "date                                                             \n",
       "2020-09-01 00:00:00  285.75   1  30.0   120.0  1.6       0.0  0.0\n",
       "2020-09-01 03:00:00  283.95   2  30.0     0.0  1.1       0.0  0.0\n",
       "2020-09-01 06:00:00  284.25   3  30.0   -60.0  1.8       0.0  0.0\n",
       "2020-09-01 09:00:00  291.25   1  31.0  -130.0  2.9       0.0  0.0\n",
       "2020-09-01 12:00:00  293.95   0  31.0  -230.0  2.6       0.0  0.0"
      ]
     },
     "execution_count": 128,
     "metadata": {},
     "output_type": "execute_result"
    }
   ],
   "source": [
    "df_clean.head()"
   ]
  },
  {
   "cell_type": "markdown",
   "metadata": {},
   "source": [
    "# Aggregation of the feature engineering"
   ]
  },
  {
   "cell_type": "code",
<<<<<<< HEAD
   "execution_count": 130,
   "metadata": {},
   "outputs": [],
   "source": [
    "# Let's build a single function to process the feature engineering on the external data\n",
    "\n",
=======
   "execution_count": 133,
   "metadata": {},
   "outputs": [],
   "source": [
>>>>>>> branch_adritest
    "# Function to remove all the columns that have more than 45% of NaN values\n",
    "def _delete_na_columns(X):\n",
    "    X = X.copy()\n",
    "    mute_columns = []\n",
<<<<<<< HEAD
    "    for elem in df.columns:\n",
    "        if df[elem].isna().sum() / df[elem].shape[0] > 0.40:\n",
=======
    "    for elem in X.columns:\n",
    "        if X[elem].isna().sum() / X[elem].shape[0] > 0.40:\n",
>>>>>>> branch_adritest
    "            mute_columns.append(elem)\n",
    "    X = X.drop(columns=mute_columns)\n",
    "    return X\n",
    "\n",
    "\n",
    "# On va mettre la date en index et classer le tout par ordre chronologique\n",
    "\n",
    "def _datetime_ordered_index(X):\n",
    "    X = X.copy()\n",
    "    X = X.set_index(X['date'])\n",
    "    X = X.sort_index()\n",
    "    X = X.drop(columns=[\"date\"])\n",
    "    return X\n",
    "\n",
    "\n",
    "\n",
    "# Now we want to replace the null values by the last non missing value\n",
    "def _fill_na_with_ffill_or_mode(X):\n",
    "    X = X.copy()\n",
    "    X = X.fillna(method='ffill') # replacing NaN by the last non missing value\n",
    "    \n",
    "    # For the few values that couldn't be filled = most frequent value\n",
    "    for col in X.columns:\n",
    "        if X[col].isna().any():  \n",
<<<<<<< HEAD
    "            mode_value = df[col].mode().iloc[0]\n",
=======
    "            mode_value = X[col].mode().iloc[0]\n",
>>>>>>> branch_adritest
    "            X[col].fillna(mode_value, inplace=True)\n",
    "    \n",
    "    return X\n",
    "\n",
    "\n",
    "# Let's choose the features that we think are the most relevant in our case\n",
    "def _choose_external_features(X):\n",
    "    col = ['t', # temperature, obvious factor\n",
    "           'ww', # description of the weather situation\n",
    "           'cl', # cloud covering\n",
    "           'tend24', # weather tendency on 24h\n",
    "           'ff', # wind\n",
    "           'etat_sol', # state of the floor\n",
    "           'rr3'] # rain during last 3 hours\n",
    "    X = X.copy()\n",
    "    X = X[col]\n",
    "    return X\n",
    "\n",
    "\n",
    "def _process_external_features(X):\n",
    "    X = X.copy()\n",
    "    X = _delete_na_columns(X)\n",
    "    X = _datetime_ordered_index(X)\n",
    "    X = _fill_na_with_ffill_or_mode(X)\n",
    "    X = _choose_external_features(X)\n",
    "    return X\n"
   ]
  },
  {
   "cell_type": "code",
   "execution_count": 132,
   "metadata": {},
   "outputs": [
    {
     "data": {
      "text/html": [
       "<div>\n",
       "<style scoped>\n",
       "    .dataframe tbody tr th:only-of-type {\n",
       "        vertical-align: middle;\n",
       "    }\n",
       "\n",
       "    .dataframe tbody tr th {\n",
       "        vertical-align: top;\n",
       "    }\n",
       "\n",
       "    .dataframe thead th {\n",
       "        text-align: right;\n",
       "    }\n",
       "</style>\n",
       "<table border=\"1\" class=\"dataframe\">\n",
       "  <thead>\n",
       "    <tr style=\"text-align: right;\">\n",
       "      <th></th>\n",
       "      <th>t</th>\n",
       "      <th>ww</th>\n",
       "      <th>cl</th>\n",
       "      <th>tend24</th>\n",
       "      <th>ff</th>\n",
       "      <th>etat_sol</th>\n",
       "      <th>rr3</th>\n",
       "    </tr>\n",
       "    <tr>\n",
       "      <th>date</th>\n",
       "      <th></th>\n",
       "      <th></th>\n",
       "      <th></th>\n",
       "      <th></th>\n",
       "      <th></th>\n",
       "      <th></th>\n",
       "      <th></th>\n",
       "    </tr>\n",
       "  </thead>\n",
       "  <tbody>\n",
       "    <tr>\n",
       "      <th>2020-09-01 00:00:00</th>\n",
       "      <td>285.75</td>\n",
       "      <td>1</td>\n",
       "      <td>30.0</td>\n",
       "      <td>120.0</td>\n",
       "      <td>1.6</td>\n",
       "      <td>0.0</td>\n",
       "      <td>0.0</td>\n",
       "    </tr>\n",
       "    <tr>\n",
       "      <th>2020-09-01 03:00:00</th>\n",
       "      <td>283.95</td>\n",
       "      <td>2</td>\n",
       "      <td>30.0</td>\n",
       "      <td>0.0</td>\n",
       "      <td>1.1</td>\n",
       "      <td>0.0</td>\n",
       "      <td>0.0</td>\n",
       "    </tr>\n",
       "    <tr>\n",
       "      <th>2020-09-01 06:00:00</th>\n",
       "      <td>284.25</td>\n",
       "      <td>3</td>\n",
       "      <td>30.0</td>\n",
       "      <td>-60.0</td>\n",
       "      <td>1.8</td>\n",
       "      <td>0.0</td>\n",
       "      <td>0.0</td>\n",
       "    </tr>\n",
       "    <tr>\n",
       "      <th>2020-09-01 09:00:00</th>\n",
       "      <td>291.25</td>\n",
       "      <td>1</td>\n",
       "      <td>31.0</td>\n",
       "      <td>-130.0</td>\n",
       "      <td>2.9</td>\n",
       "      <td>0.0</td>\n",
       "      <td>0.0</td>\n",
       "    </tr>\n",
       "    <tr>\n",
       "      <th>2020-09-01 12:00:00</th>\n",
       "      <td>293.95</td>\n",
       "      <td>0</td>\n",
       "      <td>31.0</td>\n",
       "      <td>-230.0</td>\n",
       "      <td>2.6</td>\n",
       "      <td>0.0</td>\n",
       "      <td>0.0</td>\n",
       "    </tr>\n",
       "    <tr>\n",
       "      <th>...</th>\n",
       "      <td>...</td>\n",
       "      <td>...</td>\n",
       "      <td>...</td>\n",
       "      <td>...</td>\n",
       "      <td>...</td>\n",
       "      <td>...</td>\n",
       "      <td>...</td>\n",
       "    </tr>\n",
       "    <tr>\n",
       "      <th>2021-10-21 00:00:00</th>\n",
       "      <td>287.05</td>\n",
       "      <td>1</td>\n",
       "      <td>38.0</td>\n",
       "      <td>-1710.0</td>\n",
       "      <td>11.8</td>\n",
       "      <td>0.0</td>\n",
       "      <td>2.0</td>\n",
       "    </tr>\n",
       "    <tr>\n",
       "      <th>2021-10-21 03:00:00</th>\n",
       "      <td>286.05</td>\n",
       "      <td>60</td>\n",
       "      <td>35.0</td>\n",
       "      <td>-1040.0</td>\n",
       "      <td>14.6</td>\n",
       "      <td>0.0</td>\n",
       "      <td>-0.1</td>\n",
       "    </tr>\n",
       "    <tr>\n",
       "      <th>2021-10-21 06:00:00</th>\n",
       "      <td>284.05</td>\n",
       "      <td>1</td>\n",
       "      <td>35.0</td>\n",
       "      <td>-180.0</td>\n",
       "      <td>7.7</td>\n",
       "      <td>0.0</td>\n",
       "      <td>-0.1</td>\n",
       "    </tr>\n",
       "    <tr>\n",
       "      <th>2021-10-21 09:00:00</th>\n",
       "      <td>286.05</td>\n",
       "      <td>1</td>\n",
       "      <td>31.0</td>\n",
       "      <td>70.0</td>\n",
       "      <td>7.0</td>\n",
       "      <td>0.0</td>\n",
       "      <td>0.0</td>\n",
       "    </tr>\n",
       "    <tr>\n",
       "      <th>2021-10-21 12:00:00</th>\n",
       "      <td>286.25</td>\n",
       "      <td>61</td>\n",
       "      <td>38.0</td>\n",
       "      <td>160.0</td>\n",
       "      <td>4.6</td>\n",
       "      <td>1.0</td>\n",
       "      <td>0.6</td>\n",
       "    </tr>\n",
       "  </tbody>\n",
       "</table>\n",
       "<p>3322 rows × 7 columns</p>\n",
       "</div>"
      ],
      "text/plain": [
       "                          t  ww    cl  tend24    ff  etat_sol  rr3\n",
       "date                                                              \n",
       "2020-09-01 00:00:00  285.75   1  30.0   120.0   1.6       0.0  0.0\n",
       "2020-09-01 03:00:00  283.95   2  30.0     0.0   1.1       0.0  0.0\n",
       "2020-09-01 06:00:00  284.25   3  30.0   -60.0   1.8       0.0  0.0\n",
       "2020-09-01 09:00:00  291.25   1  31.0  -130.0   2.9       0.0  0.0\n",
       "2020-09-01 12:00:00  293.95   0  31.0  -230.0   2.6       0.0  0.0\n",
       "...                     ...  ..   ...     ...   ...       ...  ...\n",
       "2021-10-21 00:00:00  287.05   1  38.0 -1710.0  11.8       0.0  2.0\n",
       "2021-10-21 03:00:00  286.05  60  35.0 -1040.0  14.6       0.0 -0.1\n",
       "2021-10-21 06:00:00  284.05   1  35.0  -180.0   7.7       0.0 -0.1\n",
       "2021-10-21 09:00:00  286.05   1  31.0    70.0   7.0       0.0  0.0\n",
       "2021-10-21 12:00:00  286.25  61  38.0   160.0   4.6       1.0  0.6\n",
       "\n",
       "[3322 rows x 7 columns]"
      ]
     },
     "execution_count": 132,
     "metadata": {},
     "output_type": "execute_result"
    }
   ],
   "source": [
    "df_clean = _process_external_features(df)\n",
    "df_clean"
   ]
  },
  {
   "cell_type": "code",
   "execution_count": null,
   "metadata": {},
   "outputs": [],
   "source": []
  },
  {
   "cell_type": "code",
   "execution_count": null,
   "metadata": {},
   "outputs": [],
   "source": []
  }
 ],
 "metadata": {
  "kernelspec": {
   "display_name": "base",
   "language": "python",
   "name": "python3"
  },
  "language_info": {
   "codemirror_mode": {
    "name": "ipython",
    "version": 3
   },
   "file_extension": ".py",
   "mimetype": "text/x-python",
   "name": "python",
   "nbconvert_exporter": "python",
   "pygments_lexer": "ipython3",
   "version": "3.11.5"
  }
 },
 "nbformat": 4,
 "nbformat_minor": 2
}
